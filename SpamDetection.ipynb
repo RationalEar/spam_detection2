{
 "cells": [
  {
   "cell_type": "markdown",
   "id": "a84d16cb",
   "metadata": {
    "colab": {
     "base_uri": "https://localhost:8080/"
    },
    "id": "a84d16cb",
    "outputId": "2b2049e4-34c0-438d-b183-58016dcf0829"
   },
   "source": [
    "#### Google Colab: Environment Setup"
   ]
  },
  {
   "cell_type": "code",
   "execution_count": null,
   "id": "09bd9021",
   "metadata": {},
   "outputs": [],
   "source": [
    "# clone the repository if directory `/content/spam_detection2` does not exist and we're not already in it\n",
    "import os\n",
    "\n",
    "workspace_dir = '/content/spam_detection2'\n",
    "current_dir = os.getcwd()\n",
    "if not os.path.exists(workspace_dir) and current_dir != workspace_dir:\n",
    "    !git clone https://github.com/RationalEar/spam_detection2.git\n",
    "    os.chdir(workspace_dir)\n",
    "    !ls -al\n",
    "    !pip install -q transformers==4.48.0 scikit-learn pandas numpy matplotlib mlflow beautifulsoup4 shap lime\n",
    "    !pip install -q torch --index-url https://download.pytorch.org/whl/cu126\n",
    "else:\n",
    "    os.chdir(workspace_dir)\n",
    "    !git pull"
   ]
  },
  {
   "cell_type": "code",
   "execution_count": null,
   "id": "be127122",
   "metadata": {
    "id": "be127122"
   },
   "outputs": [],
   "source": [
    "from google.colab import drive\n",
    "import pandas as pd\n",
    "from utils.preprocessor import load_glove_embeddings\n",
    "from train import train_model"
   ]
  },
  {
   "cell_type": "code",
   "execution_count": null,
   "id": "540f2cac",
   "metadata": {
    "colab": {
     "base_uri": "https://localhost:8080/"
    },
    "id": "540f2cac",
    "outputId": "beae2425-b0ce-4321-a98a-7da7daab4650"
   },
   "outputs": [],
   "source": [
    "# Mount Google Drive for saving models\n",
    "drive.mount('/content/drive')\n",
    "ROOT_PATH = '/content/drive/MyDrive/Projects/spam_detection2/'\n",
    "MODEL_SAVE_PATH = os.path.join(ROOT_PATH, 'models')\n",
    "os.makedirs(MODEL_SAVE_PATH, exist_ok=True)"
   ]
  },
  {
   "cell_type": "code",
   "execution_count": null,
   "id": "fd6ed652",
   "metadata": {
    "id": "fd6ed652"
   },
   "outputs": [],
   "source": [
    "from train import set_seed\n",
    "\n",
    "set_seed(42)"
   ]
  },
  {
   "cell_type": "markdown",
   "id": "975fb231",
   "metadata": {
    "id": "975fb231"
   },
   "source": [
    "#### Load preprocessed data (assumes PKLs/CSVs are available in data/processed/)"
   ]
  },
  {
   "cell_type": "code",
   "execution_count": null,
   "id": "9df1afdf",
   "metadata": {},
   "outputs": [],
   "source": [
    "train_df = pd.read_pickle(ROOT_PATH + 'data/processed/train.pkl')\n",
    "test_df = pd.read_pickle(ROOT_PATH + 'data/processed/test.pkl')"
   ]
  },
  {
   "cell_type": "code",
   "execution_count": null,
   "id": "6882dd41",
   "metadata": {
    "id": "6882dd41"
   },
   "outputs": [],
   "source": [
    "# Build vocabulary from training data\n",
    "from utils.functions import build_vocab\n",
    "\n",
    "word2idx = build_vocab(train_df['text'])"
   ]
  },
  {
   "cell_type": "code",
   "execution_count": null,
   "id": "e2e70a7d",
   "metadata": {
    "id": "e2e70a7d"
   },
   "outputs": [],
   "source": [
    "# Load GloVe embeddings\n",
    "GLOVE_PATH = os.path.join(ROOT_PATH, 'data/raw/glove.6B/glove.6B.300d.txt')\n",
    "embedding_dim = 300\n",
    "max_len = 200\n",
    "pretrained_embeddings = load_glove_embeddings(GLOVE_PATH, word2idx, embedding_dim)"
   ]
  },
  {
   "cell_type": "markdown",
   "id": "90bc2296",
   "metadata": {
    "id": "90bc2296"
   },
   "source": [
    "#### Train CNN Model"
   ]
  },
  {
   "cell_type": "code",
   "execution_count": null,
   "id": "7df22ca6",
   "metadata": {},
   "outputs": [],
   "source": [
    "train_model('cnn', train_df, test_df, embedding_dim=embedding_dim, pretrained_embeddings=pretrained_embeddings,\n",
    "                model_save_path=MODEL_SAVE_PATH, max_len=max_len, evaluate=True)"
   ]
  },
  {
   "cell_type": "markdown",
   "id": "6ffd5c9e",
   "metadata": {
    "colab": {
     "base_uri": "https://localhost:8080/"
    },
    "id": "6ffd5c9e",
    "outputId": "955a3038-aa2c-4163-def5-8b15e5c21859"
   },
   "source": [
    "#### Train BiLSTM Model"
   ]
  },
  {
   "cell_type": "code",
   "execution_count": null,
   "id": "7424b1a7",
   "metadata": {},
   "outputs": [],
   "source": [
    "train_model('bilstm', train_df, test_df, embedding_dim=embedding_dim, pretrained_embeddings=pretrained_embeddings,\n",
    "                model_save_path=MODEL_SAVE_PATH, max_len=max_len, evaluate=True)"
   ]
  },
  {
   "cell_type": "markdown",
   "id": "f56b709c",
   "metadata": {},
   "source": [
    "#### Train BERT Model"
   ]
  },
  {
   "cell_type": "code",
   "execution_count": null,
   "id": "1d27ec27",
   "metadata": {},
   "outputs": [],
   "source": [
    "train_model('bert', train_df, test_df, embedding_dim=embedding_dim, pretrained_embeddings=pretrained_embeddings,\n",
    "                model_save_path=MODEL_SAVE_PATH, max_len=max_len, evaluate=True)"
   ]
  }
 ],
 "metadata": {
  "accelerator": "GPU",
  "colab": {
   "gpuType": "A100",
   "machine_shape": "hm",
   "provenance": []
  },
  "kernelspec": {
   "display_name": "Python 3",
   "name": "python3"
  },
  "language_info": {
   "name": "python",
   "version": "3.11.9"
  }
 },
 "nbformat": 4,
 "nbformat_minor": 5
}
