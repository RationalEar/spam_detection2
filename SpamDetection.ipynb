{
 "cells": [
  {
   "cell_type": "markdown",
   "id": "a84d16cb",
   "metadata": {
    "id": "a84d16cb",
    "outputId": "2b2049e4-34c0-438d-b183-58016dcf0829"
   },
   "source": [
    "#### Google Colab: Environment Setup"
   ]
  },
  {
   "cell_type": "code",
   "execution_count": 1,
   "id": "09bd9021",
   "metadata": {
    "id": "09bd9021",
    "outputId": "a79ffc02-10ab-42a3-87e3-69f3571b252e",
    "colab": {
     "base_uri": "https://localhost:8080/"
    }
   },
   "outputs": [
    {
     "output_type": "stream",
     "name": "stdout",
     "text": [
      "remote: Enumerating objects: 5, done.\u001B[K\n",
      "remote: Counting objects:  20% (1/5)\u001B[K\rremote: Counting objects:  40% (2/5)\u001B[K\rremote: Counting objects:  60% (3/5)\u001B[K\rremote: Counting objects:  80% (4/5)\u001B[K\rremote: Counting objects: 100% (5/5)\u001B[K\rremote: Counting objects: 100% (5/5), done.\u001B[K\n",
      "remote: Compressing objects: 100% (1/1)\u001B[K\rremote: Compressing objects: 100% (1/1), done.\u001B[K\n",
      "remote: Total 3 (delta 2), reused 3 (delta 2), pack-reused 0 (from 0)\u001B[K\n",
      "Unpacking objects:  33% (1/3)\rUnpacking objects:  66% (2/3)\rUnpacking objects: 100% (3/3)\rUnpacking objects: 100% (3/3), 1.38 KiB | 1.38 MiB/s, done.\n",
      "From https://github.com/RationalEar/spam_detection2\n",
      " * branch            feature/bilstm-evaluation -> FETCH_HEAD\n",
      "   40d4950..0828e24  feature/bilstm-evaluation -> origin/feature/bilstm-evaluation\n",
      "Updating 40d4950..0828e24\n",
      "Fast-forward\n",
      " train.py | 26 \u001B[32m+++++++++++++++++++++++\u001B[m\u001B[31m---\u001B[m\n",
      " 1 file changed, 23 insertions(+), 3 deletions(-)\n"
     ]
    }
   ],
   "source": [
    "# clone the repository if directory `/content/spam_detection2` does not exist and we're not already in it\n",
    "import os\n",
    "\n",
    "workspace_dir = '/content/spam_detection2'\n",
    "current_dir = os.getcwd()\n",
    "if not os.path.exists(workspace_dir) and current_dir != workspace_dir:\n",
    "    !git clone https://github.com/RationalEar/spam_detection2.git\n",
    "    os.chdir(workspace_dir)\n",
    "    !ls -al\n",
    "    !pip install -q transformers==4.48.0 scikit-learn pandas numpy matplotlib mlflow beautifulsoup4 shap lime\n",
    "    !pip install -q torch --index-url https://download.pytorch.org/whl/cu126\n",
    "else:\n",
    "    os.chdir(workspace_dir)\n",
    "    !git pull origin feature/bilstm-evaluation"
   ]
  },
  {
   "cell_type": "code",
   "execution_count": 2,
   "id": "be127122",
   "metadata": {
    "id": "be127122"
   },
   "outputs": [],
   "source": [
    "from google.colab import drive\n",
    "import pandas as pd\n",
    "from utils.preprocessor import load_glove_embeddings\n",
    "from train import train_model"
   ]
  },
  {
   "cell_type": "code",
   "execution_count": 3,
   "id": "540f2cac",
   "metadata": {
    "colab": {
     "base_uri": "https://localhost:8080/"
    },
    "id": "540f2cac",
    "outputId": "40d04cb6-c570-40c8-845a-0463e292b391"
   },
   "outputs": [
    {
     "output_type": "stream",
     "name": "stdout",
     "text": [
      "Drive already mounted at /content/drive; to attempt to forcibly remount, call drive.mount(\"/content/drive\", force_remount=True).\n"
     ]
    }
   ],
   "source": [
    "# Mount Google Drive for saving models\n",
    "drive.mount('/content/drive')\n",
    "ROOT_PATH = '/content/drive/MyDrive/Projects/spam_detection2/'\n",
    "MODEL_SAVE_PATH = os.path.join(ROOT_PATH, 'models')\n",
    "os.makedirs(MODEL_SAVE_PATH, exist_ok=True)"
   ]
  },
  {
   "cell_type": "code",
   "execution_count": 4,
   "id": "fd6ed652",
   "metadata": {
    "id": "fd6ed652"
   },
   "outputs": [],
   "source": [
    "from train import set_seed\n",
    "\n",
    "set_seed(42)"
   ]
  },
  {
   "cell_type": "markdown",
   "id": "975fb231",
   "metadata": {
    "id": "975fb231"
   },
   "source": [
    "#### Load preprocessed data (assumes PKLs/CSVs are available in data/processed/)"
   ]
  },
  {
   "cell_type": "code",
   "execution_count": 5,
   "id": "9df1afdf",
   "metadata": {
    "id": "9df1afdf"
   },
   "outputs": [],
   "source": [
    "train_df = pd.read_pickle(ROOT_PATH + 'data/processed/train.pkl')\n",
    "test_df = pd.read_pickle(ROOT_PATH + 'data/processed/test.pkl')"
   ]
  },
  {
   "cell_type": "code",
   "execution_count": 6,
   "id": "6882dd41",
   "metadata": {
    "id": "6882dd41"
   },
   "outputs": [],
   "source": [
    "# Build vocabulary from training data\n",
    "from utils.functions import build_vocab\n",
    "\n",
    "word2idx, idx2word = build_vocab(train_df['text'])"
   ]
  },
  {
   "cell_type": "code",
   "execution_count": 7,
   "id": "e2e70a7d",
   "metadata": {
    "id": "e2e70a7d"
   },
   "outputs": [],
   "source": [
    "# Load GloVe embeddings\n",
    "GLOVE_PATH = os.path.join(ROOT_PATH, 'data/raw/glove.6B/glove.6B.300d.txt')\n",
    "embedding_dim = 300\n",
    "max_len = 200\n",
    "pretrained_embeddings = load_glove_embeddings(GLOVE_PATH, word2idx, embedding_dim)"
   ]
  },
  {
   "cell_type": "markdown",
   "id": "90bc2296",
   "metadata": {
    "id": "90bc2296"
   },
   "source": [
    "#### Train CNN Model"
   ]
  },
  {
   "cell_type": "code",
   "execution_count": null,
   "id": "7df22ca6",
   "metadata": {
    "id": "7df22ca6",
    "outputId": "2e5be65f-9da1-45d6-8f29-3b72693fc1f6",
    "colab": {
     "base_uri": "https://localhost:8080/"
    }
   },
   "outputs": [
    {
     "output_type": "stream",
     "name": "stdout",
     "text": [
      "Epoch 1/50 - Loss: 0.3674\n",
      "Epoch 2/50 - Loss: 0.1603\n",
      "Epoch 3/50 - Loss: 0.1075\n",
      "Epoch 4/50 - Loss: 0.0653\n",
      "Epoch 5/50 - Loss: 0.0533\n",
      "Epoch 6/50 - Loss: 0.0426\n",
      "Epoch 7/50 - Loss: 0.0336\n",
      "Epoch 8/50 - Loss: 0.0319\n",
      "Epoch 9/50 - Loss: 0.0288\n",
      "Epoch 10/50 - Loss: 0.0261\n",
      "Epoch 11/50 - Loss: 0.0215\n",
      "Epoch 12/50 - Loss: 0.0272\n",
      "Epoch 13/50 - Loss: 0.0143\n",
      "Epoch 14/50 - Loss: 0.0193\n",
      "Epoch 15/50 - Loss: 0.0170\n",
      "Epoch 16/50 - Loss: 0.0135\n",
      "Epoch 17/50 - Loss: 0.0126\n",
      "Epoch 18/50 - Loss: 0.0125\n",
      "Epoch 19/50 - Loss: 0.0115\n",
      "Epoch 20/50 - Loss: 0.0308\n",
      "Epoch 21/50 - Loss: 0.0318\n",
      "Epoch 22/50 - Loss: 0.0212\n",
      "Epoch 23/50 - Loss: 0.0184\n",
      "Epoch 24/50 - Loss: 0.0137\n",
      "Epoch 25/50 - Loss: 0.0169\n",
      "Epoch 26/50 - Loss: 0.0134\n",
      "Epoch 27/50 - Loss: 0.0114\n",
      "Epoch 28/50 - Loss: 0.0107\n",
      "Epoch 29/50 - Loss: 0.0104\n",
      "Epoch 30/50 - Loss: 0.0105\n",
      "Epoch 31/50 - Loss: 0.0099\n",
      "Epoch 32/50 - Loss: 0.0101\n",
      "Epoch 33/50 - Loss: 0.0102\n",
      "Epoch 34/50 - Loss: 0.0114\n",
      "Epoch 35/50 - Loss: 0.0102\n",
      "Epoch 36/50 - Loss: 0.0105\n",
      "Epoch 37/50 - Loss: 0.0104\n",
      "Epoch 38/50 - Loss: 0.0107\n",
      "Epoch 39/50 - Loss: 0.0103\n",
      "Epoch 40/50 - Loss: 0.0105\n",
      "Epoch 41/50 - Loss: 0.0108\n",
      "Epoch 42/50 - Loss: 0.0103\n",
      "Epoch 43/50 - Loss: 0.0107\n",
      "Epoch 44/50 - Loss: 0.0100\n",
      "Epoch 45/50 - Loss: 0.0103\n",
      "Epoch 46/50 - Loss: 0.0100\n",
      "Epoch 47/50 - Loss: 0.0128\n",
      "Epoch 48/50 - Loss: 0.0749\n",
      "Epoch 49/50 - Loss: 0.0301\n",
      "Epoch 50/50 - Loss: 0.0155\n",
      "Model saved to /content/drive/MyDrive/Projects/spam_detection2/models/spam_cnn.pt\n",
      "              precision    recall  f1-score   support\n",
      "\n",
      "         0.0       0.98      0.93      0.96       830\n",
      "         1.0       0.87      0.97      0.92       380\n",
      "\n",
      "    accuracy                           0.95      1210\n",
      "   macro avg       0.93      0.95      0.94      1210\n",
      "weighted avg       0.95      0.95      0.95      1210\n",
      "\n",
      "Confusion Matrix:\n",
      " [[776  54]\n",
      " [ 12 368]]\n"
     ]
    },
    {
     "output_type": "execute_result",
     "data": {
      "text/plain": [
       "SpamCNN(\n",
       "  (embedding): Embedding(25373, 300)\n",
       "  (conv1): Conv1d(300, 128, kernel_size=(3,), stride=(1,), padding=(1,))\n",
       "  (conv2): Conv1d(128, 64, kernel_size=(5,), stride=(1,), padding=(2,))\n",
       "  (conv3): Conv1d(64, 32, kernel_size=(7,), stride=(1,), padding=(3,))\n",
       "  (global_max_pool): AdaptiveMaxPool1d(output_size=1)\n",
       "  (fc1): Linear(in_features=32, out_features=64, bias=True)\n",
       "  (fc2): Linear(in_features=64, out_features=1, bias=True)\n",
       "  (dropout): Dropout(p=0.5, inplace=False)\n",
       ")"
      ]
     },
     "metadata": {},
     "execution_count": 8
    }
   ],
   "source": [
    "train_model('cnn', train_df, test_df, embedding_dim=embedding_dim, pretrained_embeddings=pretrained_embeddings,\n",
    "                model_save_path=MODEL_SAVE_PATH, max_len=max_len, evaluate=True)"
   ]
  },
  {
   "cell_type": "markdown",
   "id": "6ffd5c9e",
   "metadata": {
    "id": "6ffd5c9e",
    "outputId": "955a3038-aa2c-4163-def5-8b15e5c21859"
   },
   "source": [
    "#### Train BiLSTM Model"
   ]
  },
  {
   "cell_type": "code",
   "execution_count": 9,
   "id": "7424b1a7",
   "metadata": {
    "id": "7424b1a7",
    "outputId": "583f9def-11f9-4693-e49d-0d1f8e62ef8a",
    "colab": {
     "base_uri": "https://localhost:8080/"
    }
   },
   "outputs": [
    {
     "output_type": "stream",
     "name": "stdout",
     "text": [
      "Epoch 1/40:\n",
      "Train Loss: 0.6237, Train Acc: 0.6884\n",
      "Val Loss: 0.5116, Val Acc: 0.6479\n",
      "Saved best model to /content/drive/MyDrive/Projects/spam_detection2/models/best_bilstm_model.pt\n",
      "Epoch 2/40:\n",
      "Train Loss: 0.5184, Train Acc: 0.6955\n",
      "Val Loss: 0.5198, Val Acc: 0.7256\n",
      "Epoch 3/40:\n",
      "Train Loss: 0.4839, Train Acc: 0.7389\n",
      "Val Loss: 0.4666, Val Acc: 0.7488\n",
      "Saved best model to /content/drive/MyDrive/Projects/spam_detection2/models/best_bilstm_model.pt\n",
      "Epoch 4/40:\n",
      "Train Loss: 0.4115, Train Acc: 0.7610\n",
      "Val Loss: 0.4624, Val Acc: 0.7479\n",
      "Saved best model to /content/drive/MyDrive/Projects/spam_detection2/models/best_bilstm_model.pt\n",
      "Epoch 5/40:\n",
      "Train Loss: 0.4026, Train Acc: 0.7627\n",
      "Val Loss: 0.4201, Val Acc: 0.7587\n",
      "Saved best model to /content/drive/MyDrive/Projects/spam_detection2/models/best_bilstm_model.pt\n",
      "Epoch 6/40:\n",
      "Train Loss: 0.3857, Train Acc: 0.7835\n",
      "Val Loss: 0.4266, Val Acc: 0.7579\n",
      "Epoch 7/40:\n",
      "Train Loss: 0.3694, Train Acc: 0.7819\n",
      "Val Loss: 0.3833, Val Acc: 0.8000\n",
      "Saved best model to /content/drive/MyDrive/Projects/spam_detection2/models/best_bilstm_model.pt\n",
      "Epoch 8/40:\n",
      "Train Loss: 0.3472, Train Acc: 0.7986\n",
      "Val Loss: 0.3572, Val Acc: 0.8355\n",
      "Saved best model to /content/drive/MyDrive/Projects/spam_detection2/models/best_bilstm_model.pt\n",
      "Epoch 9/40:\n",
      "Train Loss: 0.3119, Train Acc: 0.8412\n",
      "Val Loss: 0.3324, Val Acc: 0.8331\n",
      "Saved best model to /content/drive/MyDrive/Projects/spam_detection2/models/best_bilstm_model.pt\n",
      "Epoch 10/40:\n",
      "Train Loss: 0.2887, Train Acc: 0.8853\n",
      "Val Loss: 0.2795, Val Acc: 0.8719\n",
      "Saved best model to /content/drive/MyDrive/Projects/spam_detection2/models/best_bilstm_model.pt\n",
      "Epoch 11/40:\n",
      "Train Loss: 0.2541, Train Acc: 0.9165\n",
      "Val Loss: 0.2565, Val Acc: 0.9182\n",
      "Saved best model to /content/drive/MyDrive/Projects/spam_detection2/models/best_bilstm_model.pt\n",
      "Epoch 12/40:\n",
      "Train Loss: 0.2334, Train Acc: 0.9303\n",
      "Val Loss: 0.2399, Val Acc: 0.9190\n",
      "Saved best model to /content/drive/MyDrive/Projects/spam_detection2/models/best_bilstm_model.pt\n",
      "Epoch 13/40:\n",
      "Train Loss: 0.2168, Train Acc: 0.9388\n",
      "Val Loss: 0.2270, Val Acc: 0.9074\n",
      "Saved best model to /content/drive/MyDrive/Projects/spam_detection2/models/best_bilstm_model.pt\n",
      "Epoch 14/40:\n",
      "Train Loss: 0.2006, Train Acc: 0.9448\n",
      "Val Loss: 0.2301, Val Acc: 0.9240\n",
      "Epoch 15/40:\n",
      "Train Loss: 0.1923, Train Acc: 0.9489\n",
      "Val Loss: 0.2002, Val Acc: 0.9231\n",
      "Saved best model to /content/drive/MyDrive/Projects/spam_detection2/models/best_bilstm_model.pt\n",
      "Epoch 16/40:\n",
      "Train Loss: 0.1737, Train Acc: 0.9553\n",
      "Val Loss: 0.2221, Val Acc: 0.9347\n",
      "Epoch 17/40:\n",
      "Train Loss: 0.1698, Train Acc: 0.9553\n",
      "Val Loss: 0.1899, Val Acc: 0.9339\n",
      "Saved best model to /content/drive/MyDrive/Projects/spam_detection2/models/best_bilstm_model.pt\n",
      "Epoch 18/40:\n",
      "Train Loss: 0.1553, Train Acc: 0.9578\n",
      "Val Loss: 0.1930, Val Acc: 0.9322\n",
      "Epoch 19/40:\n",
      "Train Loss: 0.1445, Train Acc: 0.9599\n",
      "Val Loss: 0.2108, Val Acc: 0.9347\n",
      "Epoch 20/40:\n",
      "Train Loss: 0.1406, Train Acc: 0.9622\n",
      "Val Loss: 0.1911, Val Acc: 0.9347\n",
      "Epoch 21/40:\n",
      "Train Loss: 0.1344, Train Acc: 0.9638\n",
      "Val Loss: 0.1793, Val Acc: 0.9413\n",
      "Saved best model to /content/drive/MyDrive/Projects/spam_detection2/models/best_bilstm_model.pt\n",
      "Epoch 22/40:\n",
      "Train Loss: 0.1233, Train Acc: 0.9669\n",
      "Val Loss: 0.2028, Val Acc: 0.9364\n",
      "Epoch 23/40:\n",
      "Train Loss: 0.1184, Train Acc: 0.9667\n",
      "Val Loss: 0.2015, Val Acc: 0.9388\n",
      "Epoch 24/40:\n",
      "Train Loss: 0.1071, Train Acc: 0.9688\n",
      "Val Loss: 0.2019, Val Acc: 0.9355\n",
      "Epoch 25/40:\n",
      "Train Loss: 0.1037, Train Acc: 0.9746\n",
      "Val Loss: 0.2026, Val Acc: 0.9421\n",
      "Epoch 26/40:\n",
      "Train Loss: 0.0946, Train Acc: 0.9737\n",
      "Val Loss: 0.2137, Val Acc: 0.9413\n",
      "Epoch 27/40:\n",
      "Train Loss: 0.0934, Train Acc: 0.9766\n",
      "Val Loss: 0.1962, Val Acc: 0.9438\n",
      "Epoch 28/40:\n",
      "Train Loss: 0.0928, Train Acc: 0.9779\n",
      "Val Loss: 0.2164, Val Acc: 0.9471\n",
      "Epoch 29/40:\n",
      "Train Loss: 0.0902, Train Acc: 0.9764\n",
      "Val Loss: 0.2445, Val Acc: 0.9430\n",
      "Epoch 30/40:\n",
      "Train Loss: 0.0864, Train Acc: 0.9802\n",
      "Val Loss: 0.2302, Val Acc: 0.9446\n",
      "Epoch 31/40:\n",
      "Train Loss: 0.0794, Train Acc: 0.9799\n",
      "Val Loss: 0.2552, Val Acc: 0.9455\n",
      "Epoch 32/40:\n",
      "Train Loss: 0.0781, Train Acc: 0.9810\n",
      "Val Loss: 0.2500, Val Acc: 0.9413\n",
      "Epoch 33/40:\n",
      "Train Loss: 0.0707, Train Acc: 0.9828\n",
      "Val Loss: 0.2347, Val Acc: 0.9446\n",
      "Epoch 34/40:\n",
      "Train Loss: 0.0634, Train Acc: 0.9835\n",
      "Val Loss: 0.2505, Val Acc: 0.9479\n",
      "Epoch 35/40:\n",
      "Train Loss: 0.0664, Train Acc: 0.9835\n",
      "Val Loss: 0.2451, Val Acc: 0.9455\n",
      "Epoch 36/40:\n",
      "Train Loss: 0.0590, Train Acc: 0.9843\n",
      "Val Loss: 0.2649, Val Acc: 0.9413\n",
      "Epoch 37/40:\n",
      "Train Loss: 0.0580, Train Acc: 0.9861\n",
      "Val Loss: 0.2799, Val Acc: 0.9421\n",
      "Epoch 38/40:\n",
      "Train Loss: 0.0558, Train Acc: 0.9853\n",
      "Val Loss: 0.2829, Val Acc: 0.9463\n",
      "Epoch 39/40:\n",
      "Train Loss: 0.0568, Train Acc: 0.9872\n",
      "Val Loss: 0.2545, Val Acc: 0.9488\n",
      "Epoch 40/40:\n",
      "Train Loss: 0.0522, Train Acc: 0.9878\n",
      "Val Loss: 0.3007, Val Acc: 0.9471\n",
      "Model saved to /content/drive/MyDrive/Projects/spam_detection2/models/spam_bilstm.pt\n",
      "              precision    recall  f1-score   support\n",
      "\n",
      "         0.0       0.98      0.94      0.96       830\n",
      "         1.0       0.89      0.95      0.92       380\n",
      "\n",
      "    accuracy                           0.95      1210\n",
      "   macro avg       0.93      0.95      0.94      1210\n",
      "weighted avg       0.95      0.95      0.95      1210\n",
      "\n",
      "Confusion Matrix:\n",
      " [[784  46]\n",
      " [ 18 362]]\n"
     ]
    },
    {
     "output_type": "execute_result",
     "data": {
      "text/plain": [
       "BiLSTMSpam(\n",
       "  (embedding): Embedding(25373, 300)\n",
       "  (lstm): LSTM(300, 128, num_layers=2, batch_first=True, dropout=0.5, bidirectional=True)\n",
       "  (attention): Attention(\n",
       "    (attn): Linear(in_features=256, out_features=1, bias=True)\n",
       "  )\n",
       "  (fc1): Linear(in_features=256, out_features=64, bias=True)\n",
       "  (fc2): Linear(in_features=64, out_features=1, bias=True)\n",
       "  (dropout): Dropout(p=0.5, inplace=False)\n",
       ")"
      ]
     },
     "metadata": {},
     "execution_count": 9
    }
   ],
   "source": [
    "train_model('bilstm', train_df, test_df, embedding_dim=embedding_dim, pretrained_embeddings=pretrained_embeddings,\n",
    "                model_save_path=MODEL_SAVE_PATH, max_len=max_len, evaluate=True)"
   ]
  },
  {
   "cell_type": "markdown",
   "id": "f56b709c",
   "metadata": {
    "id": "f56b709c"
   },
   "source": [
    "#### Train BERT Model"
   ]
  },
  {
   "cell_type": "code",
   "execution_count": null,
   "id": "1d27ec27",
   "metadata": {
    "id": "1d27ec27",
    "outputId": "39d4bded-0899-4698-c575-596488dfa6c3",
    "colab": {
     "base_uri": "https://localhost:8080/"
    }
   },
   "outputs": [
    {
     "output_type": "stream",
     "name": "stdout",
     "text": [
      "Epoch 1/10 - Loss: 0.1961\n",
      "Epoch 2/10 - Loss: 0.0694\n",
      "Epoch 3/10 - Loss: 0.0415\n",
      "Epoch 4/10 - Loss: 0.0269\n",
      "Epoch 5/10 - Loss: 0.0239\n",
      "Epoch 6/10 - Loss: 0.0220\n",
      "Epoch 7/10 - Loss: 0.0179\n",
      "Epoch 8/10 - Loss: 0.0147\n",
      "Epoch 9/10 - Loss: 0.0117\n",
      "Epoch 10/10 - Loss: 0.0115\n",
      "Model saved to /content/drive/MyDrive/Projects/spam_detection2/models/spam_bert.pt\n",
      "              precision    recall  f1-score   support\n",
      "\n",
      "         0.0       0.99      0.98      0.98       830\n",
      "         1.0       0.95      0.98      0.97       380\n",
      "\n",
      "    accuracy                           0.98      1210\n",
      "   macro avg       0.97      0.98      0.97      1210\n",
      "weighted avg       0.98      0.98      0.98      1210\n",
      "\n",
      "Confusion Matrix:\n",
      " [[810  20]\n",
      " [  7 373]]\n"
     ]
    },
    {
     "output_type": "execute_result",
     "data": {
      "text/plain": [
       "SpamBERT(\n",
       "  (bert): BertModel(\n",
       "    (embeddings): BertEmbeddings(\n",
       "      (word_embeddings): Embedding(30522, 768, padding_idx=0)\n",
       "      (position_embeddings): Embedding(512, 768)\n",
       "      (token_type_embeddings): Embedding(2, 768)\n",
       "      (LayerNorm): LayerNorm((768,), eps=1e-12, elementwise_affine=True)\n",
       "      (dropout): Dropout(p=0.1, inplace=False)\n",
       "    )\n",
       "    (encoder): BertEncoder(\n",
       "      (layer): ModuleList(\n",
       "        (0-11): 12 x BertLayer(\n",
       "          (attention): BertAttention(\n",
       "            (self): BertSdpaSelfAttention(\n",
       "              (query): Linear(in_features=768, out_features=768, bias=True)\n",
       "              (key): Linear(in_features=768, out_features=768, bias=True)\n",
       "              (value): Linear(in_features=768, out_features=768, bias=True)\n",
       "              (dropout): Dropout(p=0.1, inplace=False)\n",
       "            )\n",
       "            (output): BertSelfOutput(\n",
       "              (dense): Linear(in_features=768, out_features=768, bias=True)\n",
       "              (LayerNorm): LayerNorm((768,), eps=1e-12, elementwise_affine=True)\n",
       "              (dropout): Dropout(p=0.1, inplace=False)\n",
       "            )\n",
       "          )\n",
       "          (intermediate): BertIntermediate(\n",
       "            (dense): Linear(in_features=768, out_features=3072, bias=True)\n",
       "            (intermediate_act_fn): GELUActivation()\n",
       "          )\n",
       "          (output): BertOutput(\n",
       "            (dense): Linear(in_features=3072, out_features=768, bias=True)\n",
       "            (LayerNorm): LayerNorm((768,), eps=1e-12, elementwise_affine=True)\n",
       "            (dropout): Dropout(p=0.1, inplace=False)\n",
       "          )\n",
       "        )\n",
       "      )\n",
       "    )\n",
       "    (pooler): BertPooler(\n",
       "      (dense): Linear(in_features=768, out_features=768, bias=True)\n",
       "      (activation): Tanh()\n",
       "    )\n",
       "  )\n",
       "  (dropout): Dropout(p=0.1, inplace=False)\n",
       "  (classifier): Linear(in_features=768, out_features=1, bias=True)\n",
       ")"
      ]
     },
     "metadata": {},
     "execution_count": 8
    }
   ],
   "source": [
    "train_model('bert', train_df, test_df, embedding_dim=embedding_dim, pretrained_embeddings=pretrained_embeddings,\n",
    "                model_save_path=MODEL_SAVE_PATH, max_len=max_len, evaluate=True)"
   ]
  }
 ],
 "metadata": {
  "accelerator": "GPU",
  "colab": {
   "gpuType": "A100",
   "machine_shape": "hm",
   "provenance": []
  },
  "kernelspec": {
   "display_name": "Python 3",
   "name": "python3"
  },
  "language_info": {
   "name": "python",
   "version": "3.11.9"
  }
 },
 "nbformat": 4,
 "nbformat_minor": 5
}
