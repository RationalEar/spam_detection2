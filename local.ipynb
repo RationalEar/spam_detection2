{
 "cells": [
  {
   "cell_type": "code",
   "execution_count": 1,
   "id": "e7cb08e5",
   "metadata": {
    "ExecuteTime": {
     "end_time": "2025-05-03T15:50:21.522790Z",
     "start_time": "2025-05-03T15:50:21.506327Z"
    }
   },
   "outputs": [],
   "source": [
    "import os\n",
    "ROOT_PATH = 'D:\\\\projects\\\\spam-detection2\\\\'\n",
    "DATA_PATH = os.path.join(ROOT_PATH, '../spam-detection-data/')"
   ]
  },
  {
   "cell_type": "markdown",
   "id": "ac6b3f8e",
   "metadata": {},
   "source": [
    "### Download and Preprocess Data"
   ]
  },
  {
   "cell_type": "code",
   "execution_count": 2,
   "id": "6640d988",
   "metadata": {},
   "outputs": [
    {
     "name": "stdout",
     "output_type": "stream",
     "text": [
      "Data already prepared. Loading from disk...\n",
      "\n",
      "Data preparation complete!\n",
      "Train: 4837, Test: 1210\n",
      "\n",
      "Data preparation complete!\n",
      "Train: 4837, Test: 1210\n"
     ]
    }
   ],
   "source": [
    "from utils.preprocessor import prepare_data\n",
    "prepare_data()"
   ]
  },
  {
   "cell_type": "markdown",
   "id": "1d823b23",
   "metadata": {},
   "source": [
    "### SHAP & LIME Explainability for CNN Model"
   ]
  },
  {
   "cell_type": "code",
   "execution_count": 3,
   "id": "c939304a",
   "metadata": {
    "ExecuteTime": {
     "end_time": "2025-05-03T15:52:04.723062Z",
     "start_time": "2025-05-03T15:51:53.681774Z"
    }
   },
   "outputs": [
    {
     "name": "stderr",
     "output_type": "stream",
     "text": [
      "d:\\projects\\spam-detection2\\.venv\\Lib\\site-packages\\tqdm\\auto.py:21: TqdmWarning: IProgress not found. Please update jupyter and ipywidgets. See https://ipywidgets.readthedocs.io/en/stable/user_install.html\n",
      "  from .autonotebook import tqdm as notebook_tqdm\n"
     ]
    }
   ],
   "source": [
    "from utils.explainability import explain_cnn_with_shap, explain_cnn_with_lime\n",
    "import shap\n",
    "import matplotlib.pyplot as plt\n",
    "import torch\n",
    "import pandas as pd\n",
    "from utils.functions import set_seed\n",
    "from utils.preprocessor import load_glove_embeddings\n",
    "from utils.functions import build_vocab"
   ]
  },
  {
   "cell_type": "code",
   "execution_count": 4,
   "id": "91aea9d4",
   "metadata": {
    "ExecuteTime": {
     "end_time": "2025-05-03T15:52:19.026908Z",
     "start_time": "2025-05-03T15:52:18.421324Z"
    }
   },
   "outputs": [],
   "source": [
    "# Load preprocessed data (assumes PKLs/CSVs are available in data/processed/)\n",
    "train_df = pd.read_pickle(ROOT_PATH + 'data/processed/train.pkl')\n",
    "test_df = pd.read_pickle(ROOT_PATH + 'data/processed/test.pkl')\n",
    "\n",
    "set_seed(42)\n",
    "word2idx = build_vocab(train_df['text'])"
   ]
  },
  {
   "cell_type": "code",
   "execution_count": 5,
   "id": "8cf9b71d",
   "metadata": {
    "ExecuteTime": {
     "end_time": "2025-05-03T15:53:13.956863Z",
     "start_time": "2025-05-03T15:52:22.438791Z"
    }
   },
   "outputs": [],
   "source": [
    "# Load GloVe embeddings\n",
    "GLOVE_PATH = os.path.join(DATA_PATH, 'raw/glove.6B/glove.6B.300d.txt')\n",
    "embedding_dim = 300\n",
    "pretrained_embeddings = load_glove_embeddings(GLOVE_PATH, word2idx, embedding_dim)"
   ]
  },
  {
   "cell_type": "code",
   "execution_count": 9,
   "id": "8b324f3c",
   "metadata": {
    "ExecuteTime": {
     "end_time": "2025-05-03T16:17:45.528607Z",
     "start_time": "2025-05-03T16:17:45.059268Z"
    }
   },
   "outputs": [
    {
     "name": "stderr",
     "output_type": "stream",
     "text": [
      "100%|██████████| 10/10 [00:01<00:00,  9.56it/s]\n",
      "C:\\Users\\User\\AppData\\Local\\Temp\\ipykernel_38452\\350461830.py:24: FutureWarning: The NumPy global RNG was seeded by calling `np.random.seed`. In a future version this function will no longer use the global RNG. Pass `rng` explicitly to opt-in to the new behaviour and silence this warning.\n",
      "  shap.summary_plot(shap_values, test_inputs.cpu().numpy(), feature_names=[f'w{i}' for i in range(max_len)])\n",
      "d:\\projects\\spam-detection2\\.venv\\Lib\\site-packages\\shap\\plots\\_beeswarm.py:726: FutureWarning: The NumPy global RNG was seeded by calling `np.random.seed`. In a future version this function will no longer use the global RNG. Pass `rng` explicitly to opt-in to the new behaviour and silence this warning.\n",
      "  summary_legacy(\n"
     ]
    },
    {
     "data": {
      "text/plain": [
       "<Figure size 640x480 with 0 Axes>"
      ]
     },
     "metadata": {},
     "output_type": "display_data"
    },
    {
     "data": {
      "image/png": "[encoded data removed]",
      "text/plain": [
       "<Figure size 1150x660 with 1 Axes>"
      ]
     },
     "metadata": {},
     "output_type": "display_data"
    },
    {
     "ename": "TypeError",
     "evalue": "Object of type ndarray is not JSON serializable",
     "output_type": "error",
     "traceback": [
      "\u001b[31m---------------------------------------------------------------------------\u001b[39m",
      "\u001b[31mTypeError\u001b[39m                                 Traceback (most recent call last)",
      "\u001b[36mCell\u001b[39m\u001b[36m \u001b[39m\u001b[32mIn[9]\u001b[39m\u001b[32m, line 32\u001b[39m\n\u001b[32m     29\u001b[39m \u001b[38;5;66;03m# lime_exp.show_in_notebook(text=sample_texts[0])\u001b[39;00m\n\u001b[32m     30\u001b[39m \u001b[38;5;66;03m# Save the LIME explanation as HTML for local viewing\u001b[39;00m\n\u001b[32m     31\u001b[39m \u001b[38;5;28;01mwith\u001b[39;00m \u001b[38;5;28mopen\u001b[39m(\u001b[33m\"\u001b[39m\u001b[33mlime_explanation.html\u001b[39m\u001b[33m\"\u001b[39m, \u001b[33m\"\u001b[39m\u001b[33mw\u001b[39m\u001b[33m\"\u001b[39m, encoding=\u001b[33m\"\u001b[39m\u001b[33mutf-8\u001b[39m\u001b[33m\"\u001b[39m) \u001b[38;5;28;01mas\u001b[39;00m f:\n\u001b[32m---> \u001b[39m\u001b[32m32\u001b[39m     f.write(\u001b[43mlime_exp\u001b[49m\u001b[43m.\u001b[49m\u001b[43mas_html\u001b[49m\u001b[43m(\u001b[49m\u001b[43m)\u001b[49m)\n\u001b[32m     33\u001b[39m \u001b[38;5;28mprint\u001b[39m(\u001b[33m\"\u001b[39m\u001b[33mLIME explanation saved to lime_explanation.html. Open this file in your browser to view the explanation.\u001b[39m\u001b[33m\"\u001b[39m)\n",
      "\u001b[36mFile \u001b[39m\u001b[32md:\\projects\\spam-detection2\\.venv\\Lib\\site-packages\\lime\\explanation.py:269\u001b[39m, in \u001b[36mExplanation.as_html\u001b[39m\u001b[34m(self, labels, predict_proba, show_predicted_value, **kwargs)\u001b[39m\n\u001b[32m    261\u001b[39m predict_proba_js = \u001b[33m'\u001b[39m\u001b[33m'\u001b[39m\n\u001b[32m    262\u001b[39m \u001b[38;5;28;01mif\u001b[39;00m \u001b[38;5;28mself\u001b[39m.mode == \u001b[33m\"\u001b[39m\u001b[33mclassification\u001b[39m\u001b[33m\"\u001b[39m \u001b[38;5;129;01mand\u001b[39;00m predict_proba:\n\u001b[32m    263\u001b[39m     predict_proba_js = \u001b[33mu\u001b[39m\u001b[33m'''\u001b[39m\n\u001b[32m    264\u001b[39m \u001b[33m    var pp_div = top_div.append(\u001b[39m\u001b[33m'\u001b[39m\u001b[33mdiv\u001b[39m\u001b[33m'\u001b[39m\u001b[33m)\u001b[39m\n\u001b[32m    265\u001b[39m \u001b[33m                        .classed(\u001b[39m\u001b[33m'\u001b[39m\u001b[33mlime predict_proba\u001b[39m\u001b[33m'\u001b[39m\u001b[33m, true);\u001b[39m\n\u001b[32m    266\u001b[39m \u001b[33m    var pp_svg = pp_div.append(\u001b[39m\u001b[33m'\u001b[39m\u001b[33msvg\u001b[39m\u001b[33m'\u001b[39m\u001b[33m).style(\u001b[39m\u001b[33m'\u001b[39m\u001b[33mwidth\u001b[39m\u001b[33m'\u001b[39m\u001b[33m, \u001b[39m\u001b[33m'\u001b[39m\u001b[33m100\u001b[39m\u001b[38;5;132;01m%%\u001b[39;00m\u001b[33m'\u001b[39m\u001b[33m);\u001b[39m\n\u001b[32m    267\u001b[39m \u001b[33m    var pp = new lime.PredictProba(pp_svg, \u001b[39m\u001b[38;5;132;01m%s\u001b[39;00m\u001b[33m, \u001b[39m\u001b[38;5;132;01m%s\u001b[39;00m\u001b[33m);\u001b[39m\n\u001b[32m    268\u001b[39m \u001b[33m    \u001b[39m\u001b[33m'''\u001b[39m % (jsonize([\u001b[38;5;28mstr\u001b[39m(x) \u001b[38;5;28;01mfor\u001b[39;00m x \u001b[38;5;129;01min\u001b[39;00m \u001b[38;5;28mself\u001b[39m.class_names]),\n\u001b[32m--> \u001b[39m\u001b[32m269\u001b[39m            \u001b[43mjsonize\u001b[49m\u001b[43m(\u001b[49m\u001b[38;5;28;43mlist\u001b[39;49m\u001b[43m(\u001b[49m\u001b[38;5;28;43mself\u001b[39;49m\u001b[43m.\u001b[49m\u001b[43mpredict_proba\u001b[49m\u001b[43m.\u001b[49m\u001b[43mastype\u001b[49m\u001b[43m(\u001b[49m\u001b[38;5;28;43mfloat\u001b[39;49m\u001b[43m)\u001b[49m\u001b[43m)\u001b[49m\u001b[43m)\u001b[49m)\n\u001b[32m    271\u001b[39m predict_value_js = \u001b[33m'\u001b[39m\u001b[33m'\u001b[39m\n\u001b[32m    272\u001b[39m \u001b[38;5;28;01mif\u001b[39;00m \u001b[38;5;28mself\u001b[39m.mode == \u001b[33m\"\u001b[39m\u001b[33mregression\u001b[39m\u001b[33m\"\u001b[39m \u001b[38;5;129;01mand\u001b[39;00m show_predicted_value:\n\u001b[32m    273\u001b[39m     \u001b[38;5;66;03m# reference self.predicted_value\u001b[39;00m\n\u001b[32m    274\u001b[39m     \u001b[38;5;66;03m# (svg, predicted_value, min_value, max_value)\u001b[39;00m\n",
      "\u001b[36mFile \u001b[39m\u001b[32md:\\projects\\spam-detection2\\.venv\\Lib\\site-packages\\lime\\explanation.py:244\u001b[39m, in \u001b[36mExplanation.as_html.<locals>.jsonize\u001b[39m\u001b[34m(x)\u001b[39m\n\u001b[32m    243\u001b[39m \u001b[38;5;28;01mdef\u001b[39;00m\u001b[38;5;250m \u001b[39m\u001b[34mjsonize\u001b[39m(x):\n\u001b[32m--> \u001b[39m\u001b[32m244\u001b[39m     \u001b[38;5;28;01mreturn\u001b[39;00m \u001b[43mjson\u001b[49m\u001b[43m.\u001b[49m\u001b[43mdumps\u001b[49m\u001b[43m(\u001b[49m\u001b[43mx\u001b[49m\u001b[43m,\u001b[49m\u001b[43m \u001b[49m\u001b[43mensure_ascii\u001b[49m\u001b[43m=\u001b[49m\u001b[38;5;28;43;01mFalse\u001b[39;49;00m\u001b[43m)\u001b[49m\n",
      "\u001b[36mFile \u001b[39m\u001b[32mC:\\Python\\Python311\\Lib\\json\\__init__.py:238\u001b[39m, in \u001b[36mdumps\u001b[39m\u001b[34m(obj, skipkeys, ensure_ascii, check_circular, allow_nan, cls, indent, separators, default, sort_keys, **kw)\u001b[39m\n\u001b[32m    232\u001b[39m \u001b[38;5;28;01mif\u001b[39;00m \u001b[38;5;28mcls\u001b[39m \u001b[38;5;129;01mis\u001b[39;00m \u001b[38;5;28;01mNone\u001b[39;00m:\n\u001b[32m    233\u001b[39m     \u001b[38;5;28mcls\u001b[39m = JSONEncoder\n\u001b[32m    234\u001b[39m \u001b[38;5;28;01mreturn\u001b[39;00m \u001b[38;5;28;43mcls\u001b[39;49m\u001b[43m(\u001b[49m\n\u001b[32m    235\u001b[39m \u001b[43m    \u001b[49m\u001b[43mskipkeys\u001b[49m\u001b[43m=\u001b[49m\u001b[43mskipkeys\u001b[49m\u001b[43m,\u001b[49m\u001b[43m \u001b[49m\u001b[43mensure_ascii\u001b[49m\u001b[43m=\u001b[49m\u001b[43mensure_ascii\u001b[49m\u001b[43m,\u001b[49m\n\u001b[32m    236\u001b[39m \u001b[43m    \u001b[49m\u001b[43mcheck_circular\u001b[49m\u001b[43m=\u001b[49m\u001b[43mcheck_circular\u001b[49m\u001b[43m,\u001b[49m\u001b[43m \u001b[49m\u001b[43mallow_nan\u001b[49m\u001b[43m=\u001b[49m\u001b[43mallow_nan\u001b[49m\u001b[43m,\u001b[49m\u001b[43m \u001b[49m\u001b[43mindent\u001b[49m\u001b[43m=\u001b[49m\u001b[43mindent\u001b[49m\u001b[43m,\u001b[49m\n\u001b[32m    237\u001b[39m \u001b[43m    \u001b[49m\u001b[43mseparators\u001b[49m\u001b[43m=\u001b[49m\u001b[43mseparators\u001b[49m\u001b[43m,\u001b[49m\u001b[43m \u001b[49m\u001b[43mdefault\u001b[49m\u001b[43m=\u001b[49m\u001b[43mdefault\u001b[49m\u001b[43m,\u001b[49m\u001b[43m \u001b[49m\u001b[43msort_keys\u001b[49m\u001b[43m=\u001b[49m\u001b[43msort_keys\u001b[49m\u001b[43m,\u001b[49m\n\u001b[32m--> \u001b[39m\u001b[32m238\u001b[39m \u001b[43m    \u001b[49m\u001b[43m*\u001b[49m\u001b[43m*\u001b[49m\u001b[43mkw\u001b[49m\u001b[43m)\u001b[49m\u001b[43m.\u001b[49m\u001b[43mencode\u001b[49m\u001b[43m(\u001b[49m\u001b[43mobj\u001b[49m\u001b[43m)\u001b[49m\n",
      "\u001b[36mFile \u001b[39m\u001b[32mC:\\Python\\Python311\\Lib\\json\\encoder.py:200\u001b[39m, in \u001b[36mJSONEncoder.encode\u001b[39m\u001b[34m(self, o)\u001b[39m\n\u001b[32m    196\u001b[39m         \u001b[38;5;28;01mreturn\u001b[39;00m encode_basestring(o)\n\u001b[32m    197\u001b[39m \u001b[38;5;66;03m# This doesn't pass the iterator directly to ''.join() because the\u001b[39;00m\n\u001b[32m    198\u001b[39m \u001b[38;5;66;03m# exceptions aren't as detailed.  The list call should be roughly\u001b[39;00m\n\u001b[32m    199\u001b[39m \u001b[38;5;66;03m# equivalent to the PySequence_Fast that ''.join() would do.\u001b[39;00m\n\u001b[32m--> \u001b[39m\u001b[32m200\u001b[39m chunks = \u001b[38;5;28;43mself\u001b[39;49m\u001b[43m.\u001b[49m\u001b[43miterencode\u001b[49m\u001b[43m(\u001b[49m\u001b[43mo\u001b[49m\u001b[43m,\u001b[49m\u001b[43m \u001b[49m\u001b[43m_one_shot\u001b[49m\u001b[43m=\u001b[49m\u001b[38;5;28;43;01mTrue\u001b[39;49;00m\u001b[43m)\u001b[49m\n\u001b[32m    201\u001b[39m \u001b[38;5;28;01mif\u001b[39;00m \u001b[38;5;129;01mnot\u001b[39;00m \u001b[38;5;28misinstance\u001b[39m(chunks, (\u001b[38;5;28mlist\u001b[39m, \u001b[38;5;28mtuple\u001b[39m)):\n\u001b[32m    202\u001b[39m     chunks = \u001b[38;5;28mlist\u001b[39m(chunks)\n",
      "\u001b[36mFile \u001b[39m\u001b[32mC:\\Python\\Python311\\Lib\\json\\encoder.py:258\u001b[39m, in \u001b[36mJSONEncoder.iterencode\u001b[39m\u001b[34m(self, o, _one_shot)\u001b[39m\n\u001b[32m    253\u001b[39m \u001b[38;5;28;01melse\u001b[39;00m:\n\u001b[32m    254\u001b[39m     _iterencode = _make_iterencode(\n\u001b[32m    255\u001b[39m         markers, \u001b[38;5;28mself\u001b[39m.default, _encoder, \u001b[38;5;28mself\u001b[39m.indent, floatstr,\n\u001b[32m    256\u001b[39m         \u001b[38;5;28mself\u001b[39m.key_separator, \u001b[38;5;28mself\u001b[39m.item_separator, \u001b[38;5;28mself\u001b[39m.sort_keys,\n\u001b[32m    257\u001b[39m         \u001b[38;5;28mself\u001b[39m.skipkeys, _one_shot)\n\u001b[32m--> \u001b[39m\u001b[32m258\u001b[39m \u001b[38;5;28;01mreturn\u001b[39;00m \u001b[43m_iterencode\u001b[49m\u001b[43m(\u001b[49m\u001b[43mo\u001b[49m\u001b[43m,\u001b[49m\u001b[43m \u001b[49m\u001b[32;43m0\u001b[39;49m\u001b[43m)\u001b[49m\n",
      "\u001b[36mFile \u001b[39m\u001b[32mC:\\Python\\Python311\\Lib\\json\\encoder.py:180\u001b[39m, in \u001b[36mJSONEncoder.default\u001b[39m\u001b[34m(self, o)\u001b[39m\n\u001b[32m    161\u001b[39m \u001b[38;5;28;01mdef\u001b[39;00m\u001b[38;5;250m \u001b[39m\u001b[34mdefault\u001b[39m(\u001b[38;5;28mself\u001b[39m, o):\n\u001b[32m    162\u001b[39m \u001b[38;5;250m    \u001b[39m\u001b[33;03m\"\"\"Implement this method in a subclass such that it returns\u001b[39;00m\n\u001b[32m    163\u001b[39m \u001b[33;03m    a serializable object for ``o``, or calls the base implementation\u001b[39;00m\n\u001b[32m    164\u001b[39m \u001b[33;03m    (to raise a ``TypeError``).\u001b[39;00m\n\u001b[32m   (...)\u001b[39m\u001b[32m    178\u001b[39m \n\u001b[32m    179\u001b[39m \u001b[33;03m    \"\"\"\u001b[39;00m\n\u001b[32m--> \u001b[39m\u001b[32m180\u001b[39m     \u001b[38;5;28;01mraise\u001b[39;00m \u001b[38;5;167;01mTypeError\u001b[39;00m(\u001b[33mf\u001b[39m\u001b[33m'\u001b[39m\u001b[33mObject of type \u001b[39m\u001b[38;5;132;01m{\u001b[39;00mo.\u001b[34m__class__\u001b[39m.\u001b[34m__name__\u001b[39m\u001b[38;5;132;01m}\u001b[39;00m\u001b[33m \u001b[39m\u001b[33m'\u001b[39m\n\u001b[32m    181\u001b[39m                     \u001b[33mf\u001b[39m\u001b[33m'\u001b[39m\u001b[33mis not JSON serializable\u001b[39m\u001b[33m'\u001b[39m)\n",
      "\u001b[31mTypeError\u001b[39m: Object of type ndarray is not JSON serializable"
     ]
    }
   ],
   "source": [
    "# Load your trained CNN model and data as in your training code\n",
    "from models.cnn import SpamCNN\n",
    "\n",
    "# Example: (adjust paths and variables as needed)\n",
    "model = SpamCNN(vocab_size=len(word2idx), embedding_dim=300, pretrained_embeddings=pretrained_embeddings)\n",
    "model.load('trained_models/spam_cnn.pt')\n",
    "device = torch.device('cuda' if torch.cuda.is_available() else 'cpu')\n",
    "model = model.to(device)\n",
    "\n",
    "max_len = 200\n",
    "\n",
    "def cnn_tokenizer(text, max_len=max_len):\n",
    "    idxs = [word2idx.get(token, word2idx['<UNK>']) for token in text.split()]\n",
    "    if len(idxs) < max_len:\n",
    "        idxs += [word2idx['<PAD>']] * (max_len - len(idxs))\n",
    "    else:\n",
    "        idxs = idxs[:max_len]\n",
    "    return idxs\n",
    "\n",
    "sample_texts = test_df['text'].iloc[:10].tolist()\n",
    "\n",
    "# SHAP explainability\n",
    "shap_values, test_inputs = explain_cnn_with_shap(model, cnn_tokenizer, sample_texts, device, max_len=max_len, num_samples=10)\n",
    "shap.summary_plot(shap_values, test_inputs.cpu().numpy(), feature_names=[f'w{i}' for i in range(max_len)])\n",
    "\n",
    "# LIME explainability\n",
    "lime_explainer = explain_cnn_with_lime(model, cnn_tokenizer, class_names=['ham', 'spam'], device=device, max_len=max_len)\n",
    "lime_exp = lime_explainer(sample_texts[0])\n",
    "# lime_exp.show_in_notebook(text=sample_texts[0])\n",
    "# Save the LIME explanation as HTML for local viewing\n",
    "with open(\"lime_explanation.html\", \"w\", encoding=\"utf-8\") as f:\n",
    "    f.write(lime_exp.as_html())\n",
    "print(\"LIME explanation saved to lime_explanation.html. Open this file in your browser to view the explanation.\")"
   ]
  }
 ],
 "metadata": {
  "kernelspec": {
   "display_name": ".venv",
   "language": "python",
   "name": "python3"
  },
  "language_info": {
   "codemirror_mode": {
    "name": "ipython",
    "version": 3
   },
   "file_extension": ".py",
   "mimetype": "text/x-python",
   "name": "python",
   "nbconvert_exporter": "python",
   "pygments_lexer": "ipython3",
   "version": "3.11.9"
  }
 },
 "nbformat": 4,
 "nbformat_minor": 5
}
