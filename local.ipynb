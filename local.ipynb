{
 "cells": [
  {
   "cell_type": "code",
   "id": "825f098c40a6082f",
   "metadata": {
    "ExecuteTime": {
     "end_time": "2025-05-06T19:28:29.309049Z",
     "start_time": "2025-05-06T19:28:29.205479Z"
    }
   },
   "source": [
    "import os\n",
    "import numpy as np\n",
    "import warnings  # Add warnings module to suppress sklearn warnings\n",
    "ROOT_PATH = './'\n",
    "DATA_PATH = os.path.abspath(os.path.join(ROOT_PATH, '../spam-detection-data/'))\n",
    "DATA_PATH"
   ],
   "outputs": [
    {
     "data": {
      "text/plain": [
       "'/home/michael/PycharmProjects/spam-detection-data'"
      ]
     },
     "execution_count": 1,
     "metadata": {},
     "output_type": "execute_result"
    }
   ],
   "execution_count": 1
  },
  {
   "cell_type": "code",
   "id": "6dc5db94fb228490",
   "metadata": {
    "ExecuteTime": {
     "end_time": "2025-05-06T19:28:42.310445Z",
     "start_time": "2025-05-06T19:28:42.306438Z"
    }
   },
   "source": [
    "# Suppress sklearn warnings\n",
    "warnings.filterwarnings(\"ignore\", category=UserWarning, module=\"sklearn\")\n",
    "warnings.filterwarnings(\"ignore\", category=FutureWarning, module=\"numpy\")\n",
    "# warnings.filterwarnings(\"ignore\", category=ConvergenceWarning, module=\"sklearn\")"
   ],
   "outputs": [],
   "execution_count": 2
  },
  {
   "cell_type": "markdown",
   "id": "e2fbc82771061437",
   "metadata": {},
   "source": [
    "### Download and Preprocess Data"
   ]
  },
  {
   "cell_type": "code",
   "id": "3439fc2a807a6989",
   "metadata": {
    "ExecuteTime": {
     "end_time": "2025-05-06T19:29:07.487823Z",
     "start_time": "2025-05-06T19:29:04.404784Z"
    }
   },
   "source": [
    "from utils.preprocessor import prepare_data\n",
    "prepare_data()"
   ],
   "outputs": [
    {
     "name": "stdout",
     "output_type": "stream",
     "text": [
      "Downloading easy_ham...\n"
     ]
    },
    {
     "ename": "FileNotFoundError",
     "evalue": "[Errno 2] No such file or directory: 'data/raw/easy_ham.tar.bz2'",
     "output_type": "error",
     "traceback": [
      "\u001B[0;31m---------------------------------------------------------------------------\u001B[0m",
      "\u001B[0;31mFileNotFoundError\u001B[0m                         Traceback (most recent call last)",
      "Cell \u001B[0;32mIn[3], line 2\u001B[0m\n\u001B[1;32m      1\u001B[0m \u001B[38;5;28;01mfrom\u001B[39;00m\u001B[38;5;250m \u001B[39m\u001B[38;5;21;01mutils\u001B[39;00m\u001B[38;5;21;01m.\u001B[39;00m\u001B[38;5;21;01mpreprocessor\u001B[39;00m\u001B[38;5;250m \u001B[39m\u001B[38;5;28;01mimport\u001B[39;00m prepare_data\n\u001B[0;32m----> 2\u001B[0m \u001B[43mprepare_data\u001B[49m\u001B[43m(\u001B[49m\u001B[43m)\u001B[49m\n",
      "File \u001B[0;32m~/PycharmProjects/spam_detection2/utils/preprocessor.py:83\u001B[0m, in \u001B[0;36mprepare_data\u001B[0;34m()\u001B[0m\n\u001B[1;32m     81\u001B[0m \u001B[38;5;28;01mdef\u001B[39;00m\u001B[38;5;250m \u001B[39m\u001B[38;5;21mprepare_data\u001B[39m():\n\u001B[1;32m     82\u001B[0m     \u001B[38;5;28;01mif\u001B[39;00m \u001B[38;5;129;01mnot\u001B[39;00m os\u001B[38;5;241m.\u001B[39mpath\u001B[38;5;241m.\u001B[39mexists(\u001B[38;5;124m\"\u001B[39m\u001B[38;5;124mdata/processed/train.pkl\u001B[39m\u001B[38;5;124m\"\u001B[39m):\n\u001B[0;32m---> 83\u001B[0m         \u001B[43mdownload_datasets\u001B[49m\u001B[43m(\u001B[49m\u001B[43m)\u001B[49m\n\u001B[1;32m     84\u001B[0m         df \u001B[38;5;241m=\u001B[39m create_dataset()\n\u001B[1;32m     86\u001B[0m         \u001B[38;5;66;03m# Verify counts match original description\u001B[39;00m\n",
      "File \u001B[0;32m~/PycharmProjects/spam_detection2/utils/data_loader.py:29\u001B[0m, in \u001B[0;36mdownload_datasets\u001B[0;34m()\u001B[0m\n\u001B[1;32m     27\u001B[0m \u001B[38;5;66;03m# download if not already downloaded\u001B[39;00m\n\u001B[1;32m     28\u001B[0m \u001B[38;5;28;01mif\u001B[39;00m \u001B[38;5;129;01mnot\u001B[39;00m os\u001B[38;5;241m.\u001B[39mpath\u001B[38;5;241m.\u001B[39mexists(file_path):\n\u001B[0;32m---> 29\u001B[0m     \u001B[43murllib\u001B[49m\u001B[38;5;241;43m.\u001B[39;49m\u001B[43mrequest\u001B[49m\u001B[38;5;241;43m.\u001B[39;49m\u001B[43murlretrieve\u001B[49m\u001B[43m(\u001B[49m\u001B[43murl\u001B[49m\u001B[43m,\u001B[49m\u001B[43m \u001B[49m\u001B[43mfile_path\u001B[49m\u001B[43m)\u001B[49m\n\u001B[1;32m     30\u001B[0m \u001B[38;5;28;01melse\u001B[39;00m:\n\u001B[1;32m     31\u001B[0m     \u001B[38;5;28mprint\u001B[39m(\u001B[38;5;124mf\u001B[39m\u001B[38;5;124m\"\u001B[39m\u001B[38;5;132;01m{\u001B[39;00mdir_name\u001B[38;5;132;01m}\u001B[39;00m\u001B[38;5;124m already downloaded.\u001B[39m\u001B[38;5;124m\"\u001B[39m)\n",
      "File \u001B[0;32m/usr/lib/python3.10/urllib/request.py:251\u001B[0m, in \u001B[0;36murlretrieve\u001B[0;34m(url, filename, reporthook, data)\u001B[0m\n\u001B[1;32m    249\u001B[0m \u001B[38;5;66;03m# Handle temporary file setup.\u001B[39;00m\n\u001B[1;32m    250\u001B[0m \u001B[38;5;28;01mif\u001B[39;00m filename:\n\u001B[0;32m--> 251\u001B[0m     tfp \u001B[38;5;241m=\u001B[39m \u001B[38;5;28;43mopen\u001B[39;49m\u001B[43m(\u001B[49m\u001B[43mfilename\u001B[49m\u001B[43m,\u001B[49m\u001B[43m \u001B[49m\u001B[38;5;124;43m'\u001B[39;49m\u001B[38;5;124;43mwb\u001B[39;49m\u001B[38;5;124;43m'\u001B[39;49m\u001B[43m)\u001B[49m\n\u001B[1;32m    252\u001B[0m \u001B[38;5;28;01melse\u001B[39;00m:\n\u001B[1;32m    253\u001B[0m     tfp \u001B[38;5;241m=\u001B[39m tempfile\u001B[38;5;241m.\u001B[39mNamedTemporaryFile(delete\u001B[38;5;241m=\u001B[39m\u001B[38;5;28;01mFalse\u001B[39;00m)\n",
      "\u001B[0;31mFileNotFoundError\u001B[0m: [Errno 2] No such file or directory: 'data/raw/easy_ham.tar.bz2'"
     ]
    }
   ],
   "execution_count": 3
  },
  {
   "cell_type": "markdown",
   "id": "d5990b1ed37b31cc",
   "metadata": {},
   "source": [
    "### SHAP & LIME Explainability for CNN Model"
   ]
  },
  {
   "cell_type": "code",
   "id": "b676b4bf3b8bae34",
   "metadata": {
    "ExecuteTime": {
     "end_time": "2025-05-06T19:30:18.972312Z",
     "start_time": "2025-05-06T19:30:18.968875Z"
    }
   },
   "source": "#",
   "outputs": [],
   "execution_count": 5
  }
 ],
 "metadata": {
  "kernelspec": {
   "display_name": "venv",
   "language": "python",
   "name": "python3"
  },
  "language_info": {
   "codemirror_mode": {
    "name": "ipython",
    "version": 3
   },
   "file_extension": ".py",
   "mimetype": "text/x-python",
   "name": "python",
   "nbconvert_exporter": "python",
   "pygments_lexer": "ipython3",
   "version": "3.12.3"
  }
 },
 "nbformat": 4,
 "nbformat_minor": 5
}
