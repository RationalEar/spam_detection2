{
 "cells": [
  {
   "cell_type": "code",
   "execution_count": 1,
   "id": "e7cb08e5",
   "metadata": {
    "ExecuteTime": {
     "end_time": "2025-05-03T15:50:21.522790Z",
     "start_time": "2025-05-03T15:50:21.506327Z"
    }
   },
   "outputs": [],
   "source": [
    "import os\n",
    "ROOT_PATH = 'D:\\\\projects\\\\spam-detection2\\\\'\n",
    "DATA_PATH = os.path.join(ROOT_PATH, '../spam-detection-data/')"
   ]
  },
  {
   "cell_type": "markdown",
   "id": "ac6b3f8e",
   "metadata": {},
   "source": [
    "### Download and Preprocess Data"
   ]
  },
  {
   "cell_type": "code",
   "execution_count": 2,
   "id": "6640d988",
   "metadata": {},
   "outputs": [
    {
     "name": "stdout",
     "output_type": "stream",
     "text": [
      "Data already prepared. Loading from disk...\n",
      "\n",
      "Data preparation complete!\n",
      "Train: 4837, Test: 1210\n",
      "\n",
      "Data preparation complete!\n",
      "Train: 4837, Test: 1210\n"
     ]
    }
   ],
   "source": [
    "from utils.preprocessor import prepare_data\n",
    "prepare_data()"
   ]
  },
  {
   "cell_type": "markdown",
   "id": "1d823b23",
   "metadata": {},
   "source": [
    "### SHAP & LIME Explainability for CNN Model"
   ]
  },
  {
   "cell_type": "code",
   "execution_count": 3,
   "id": "c939304a",
   "metadata": {
    "ExecuteTime": {
     "end_time": "2025-05-03T15:52:04.723062Z",
     "start_time": "2025-05-03T15:51:53.681774Z"
    }
   },
   "outputs": [
    {
     "name": "stderr",
     "output_type": "stream",
     "text": [
      "d:\\projects\\spam-detection2\\.venv\\Lib\\site-packages\\tqdm\\auto.py:21: TqdmWarning: IProgress not found. Please update jupyter and ipywidgets. See https://ipywidgets.readthedocs.io/en/stable/user_install.html\n",
      "  from .autonotebook import tqdm as notebook_tqdm\n"
     ]
    }
   ],
   "source": [
    "from utils.explainability import explain_cnn_with_shap, explain_cnn_with_lime\n",
    "import shap\n",
    "import matplotlib.pyplot as plt\n",
    "import torch\n",
    "import pandas as pd\n",
    "from utils.functions import set_seed\n",
    "from utils.preprocessor import load_glove_embeddings\n",
    "from utils.functions import build_vocab"
   ]
  },
  {
   "cell_type": "code",
   "execution_count": 4,
   "id": "91aea9d4",
   "metadata": {
    "ExecuteTime": {
     "end_time": "2025-05-03T15:52:19.026908Z",
     "start_time": "2025-05-03T15:52:18.421324Z"
    }
   },
   "outputs": [],
   "source": [
    "# Load preprocessed data (assumes PKLs/CSVs are available in data/processed/)\n",
    "train_df = pd.read_pickle(ROOT_PATH + 'data/processed/train.pkl')\n",
    "test_df = pd.read_pickle(ROOT_PATH + 'data/processed/test.pkl')\n",
    "\n",
    "set_seed(42)\n",
    "word2idx = build_vocab(train_df['text'])"
   ]
  },
  {
   "cell_type": "code",
   "execution_count": 5,
   "id": "8cf9b71d",
   "metadata": {
    "ExecuteTime": {
     "end_time": "2025-05-03T15:53:13.956863Z",
     "start_time": "2025-05-03T15:52:22.438791Z"
    }
   },
   "outputs": [],
   "source": [
    "# Load GloVe embeddings\n",
    "GLOVE_PATH = os.path.join(DATA_PATH, 'raw/glove.6B/glove.6B.300d.txt')\n",
    "embedding_dim = 300\n",
    "pretrained_embeddings = load_glove_embeddings(GLOVE_PATH, word2idx, embedding_dim)"
   ]
  },
  {
   "cell_type": "code",
   "execution_count": 6,
   "id": "8b324f3c",
   "metadata": {
    "ExecuteTime": {
     "end_time": "2025-05-03T15:54:34.306374Z",
     "start_time": "2025-05-03T15:54:31.153782Z"
    }
   },
   "outputs": [
    {
     "ename": "IndexError",
     "evalue": "tuple index out of range",
     "output_type": "error",
     "traceback": [
      "\u001b[31m---------------------------------------------------------------------------\u001b[39m",
      "\u001b[31mIndexError\u001b[39m                                Traceback (most recent call last)",
      "\u001b[36mCell\u001b[39m\u001b[36m \u001b[39m\u001b[32mIn[6]\u001b[39m\u001b[32m, line 23\u001b[39m\n\u001b[32m     20\u001b[39m sample_texts = test_df[\u001b[33m'\u001b[39m\u001b[33mtext\u001b[39m\u001b[33m'\u001b[39m].iloc[:\u001b[32m10\u001b[39m].tolist()\n\u001b[32m     22\u001b[39m \u001b[38;5;66;03m# SHAP explainability\u001b[39;00m\n\u001b[32m---> \u001b[39m\u001b[32m23\u001b[39m shap_values, test_inputs = \u001b[43mexplain_cnn_with_shap\u001b[49m\u001b[43m(\u001b[49m\u001b[43mmodel\u001b[49m\u001b[43m,\u001b[49m\u001b[43m \u001b[49m\u001b[43mcnn_tokenizer\u001b[49m\u001b[43m,\u001b[49m\u001b[43m \u001b[49m\u001b[43msample_texts\u001b[49m\u001b[43m,\u001b[49m\u001b[43m \u001b[49m\u001b[43mdevice\u001b[49m\u001b[43m,\u001b[49m\u001b[43m \u001b[49m\u001b[43mmax_len\u001b[49m\u001b[43m=\u001b[49m\u001b[43mmax_len\u001b[49m\u001b[43m,\u001b[49m\u001b[43m \u001b[49m\u001b[43mnum_samples\u001b[49m\u001b[43m=\u001b[49m\u001b[32;43m10\u001b[39;49m\u001b[43m)\u001b[49m\n\u001b[32m     24\u001b[39m shap.summary_plot(shap_values, test_inputs.cpu().numpy(), feature_names=[\u001b[33mf\u001b[39m\u001b[33m'\u001b[39m\u001b[33mw\u001b[39m\u001b[38;5;132;01m{\u001b[39;00mi\u001b[38;5;132;01m}\u001b[39;00m\u001b[33m'\u001b[39m \u001b[38;5;28;01mfor\u001b[39;00m i \u001b[38;5;129;01min\u001b[39;00m \u001b[38;5;28mrange\u001b[39m(max_len)])\n\u001b[32m     26\u001b[39m \u001b[38;5;66;03m# LIME explainability\u001b[39;00m\n",
      "\u001b[36mFile \u001b[39m\u001b[32md:\\projects\\spam-detection2\\utils\\explainability.py:31\u001b[39m, in \u001b[36mexplain_cnn_with_shap\u001b[39m\u001b[34m(model, tokenizer, texts, device, max_len, num_samples)\u001b[39m\n\u001b[32m     28\u001b[39m     \u001b[38;5;28;01mwith\u001b[39;00m torch.no_grad():\n\u001b[32m     29\u001b[39m         \u001b[38;5;28;01mreturn\u001b[39;00m model(x).cpu().numpy()\n\u001b[32m---> \u001b[39m\u001b[32m31\u001b[39m explainer = \u001b[43mshap\u001b[49m\u001b[43m.\u001b[49m\u001b[43mDeepExplainer\u001b[49m\u001b[43m(\u001b[49m\u001b[43mmodel\u001b[49m\u001b[43m,\u001b[49m\u001b[43m \u001b[49m\u001b[43mbackground_inputs\u001b[49m\u001b[43m)\u001b[49m\n\u001b[32m     32\u001b[39m test_inputs = [tokenizer(t, max_len) \u001b[38;5;28;01mfor\u001b[39;00m t \u001b[38;5;129;01min\u001b[39;00m texts]\n\u001b[32m     33\u001b[39m test_inputs = torch.tensor(test_inputs).to(device)\n",
      "\u001b[36mFile \u001b[39m\u001b[32md:\\projects\\spam-detection2\\.venv\\Lib\\site-packages\\shap\\explainers\\_deep\\__init__.py:97\u001b[39m, in \u001b[36mDeepExplainer.__init__\u001b[39m\u001b[34m(self, model, data, session, learning_phase_flags)\u001b[39m\n\u001b[32m     94\u001b[39m \u001b[38;5;28;01melif\u001b[39;00m framework == \u001b[33m\"\u001b[39m\u001b[33mpytorch\u001b[39m\u001b[33m\"\u001b[39m:\n\u001b[32m     95\u001b[39m     \u001b[38;5;28;01mfrom\u001b[39;00m\u001b[38;5;250m \u001b[39m\u001b[34;01m.\u001b[39;00m\u001b[34;01mdeep_pytorch\u001b[39;00m\u001b[38;5;250m \u001b[39m\u001b[38;5;28;01mimport\u001b[39;00m PyTorchDeep\n\u001b[32m---> \u001b[39m\u001b[32m97\u001b[39m     \u001b[38;5;28mself\u001b[39m.explainer = \u001b[43mPyTorchDeep\u001b[49m\u001b[43m(\u001b[49m\u001b[43mmodel\u001b[49m\u001b[43m,\u001b[49m\u001b[43m \u001b[49m\u001b[43mdata\u001b[49m\u001b[43m)\u001b[49m\n\u001b[32m     99\u001b[39m \u001b[38;5;28mself\u001b[39m.expected_value = \u001b[38;5;28mself\u001b[39m.explainer.expected_value\n\u001b[32m    100\u001b[39m \u001b[38;5;28mself\u001b[39m.explainer.framework = framework\n",
      "\u001b[36mFile \u001b[39m\u001b[32md:\\projects\\spam-detection2\\.venv\\Lib\\site-packages\\shap\\explainers\\_deep\\deep_pytorch.py:57\u001b[39m, in \u001b[36mPyTorchDeep.__init__\u001b[39m\u001b[34m(self, model, data)\u001b[39m\n\u001b[32m     55\u001b[39m \u001b[38;5;66;03m# also get the device everything is running on\u001b[39;00m\n\u001b[32m     56\u001b[39m \u001b[38;5;28mself\u001b[39m.device = outputs.device\n\u001b[32m---> \u001b[39m\u001b[32m57\u001b[39m \u001b[38;5;28;01mif\u001b[39;00m \u001b[43moutputs\u001b[49m\u001b[43m.\u001b[49m\u001b[43mshape\u001b[49m\u001b[43m[\u001b[49m\u001b[32;43m1\u001b[39;49m\u001b[43m]\u001b[49m > \u001b[32m1\u001b[39m:\n\u001b[32m     58\u001b[39m     \u001b[38;5;28mself\u001b[39m.multi_output = \u001b[38;5;28;01mTrue\u001b[39;00m\n\u001b[32m     59\u001b[39m     \u001b[38;5;28mself\u001b[39m.num_outputs = outputs.shape[\u001b[32m1\u001b[39m]\n",
      "\u001b[31mIndexError\u001b[39m: tuple index out of range"
     ]
    }
   ],
   "source": [
    "# Load your trained CNN model and data as in your training code\n",
    "from models.cnn import SpamCNN\n",
    "\n",
    "# Example: (adjust paths and variables as needed)\n",
    "model = SpamCNN(vocab_size=len(word2idx), embedding_dim=300, pretrained_embeddings=pretrained_embeddings)\n",
    "model.load('trained_models/spam_cnn.pt')\n",
    "device = torch.device('cuda' if torch.cuda.is_available() else 'cpu')\n",
    "model = model.to(device)\n",
    "\n",
    "max_len = 200\n",
    "\n",
    "def cnn_tokenizer(text, max_len=max_len):\n",
    "    idxs = [word2idx.get(token, word2idx['<UNK>']) for token in text.split()]\n",
    "    if len(idxs) < max_len:\n",
    "        idxs += [word2idx['<PAD>']] * (max_len - len(idxs))\n",
    "    else:\n",
    "        idxs = idxs[:max_len]\n",
    "    return idxs\n",
    "\n",
    "sample_texts = test_df['text'].iloc[:10].tolist()\n",
    "\n",
    "# SHAP explainability\n",
    "shap_values, test_inputs = explain_cnn_with_shap(model, cnn_tokenizer, sample_texts, device, max_len=max_len, num_samples=10)\n",
    "shap.summary_plot(shap_values, test_inputs.cpu().numpy(), feature_names=[f'w{i}' for i in range(max_len)])\n",
    "\n",
    "# LIME explainability\n",
    "lime_explainer = explain_cnn_with_lime(model, cnn_tokenizer, class_names=['ham', 'spam'], device=device, max_len=max_len)\n",
    "lime_exp = lime_explainer(sample_texts[0])\n",
    "lime_exp.show_in_notebook(text=sample_texts[0])"
   ]
  }
 ],
 "metadata": {
  "kernelspec": {
   "display_name": ".venv",
   "language": "python",
   "name": "python3"
  },
  "language_info": {
   "codemirror_mode": {
    "name": "ipython",
    "version": 3
   },
   "file_extension": ".py",
   "mimetype": "text/x-python",
   "name": "python",
   "nbconvert_exporter": "python",
   "pygments_lexer": "ipython3",
   "version": "3.11.9"
  }
 },
 "nbformat": 4,
 "nbformat_minor": 5
}
