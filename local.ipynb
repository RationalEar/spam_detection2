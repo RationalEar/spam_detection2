{
 "cells": [
  {
   "cell_type": "markdown",
   "id": "0b0229c7",
   "metadata": {},
   "source": [
    "### Download and Preprocess Data"
   ]
  },
  {
   "cell_type": "code",
   "execution_count": 1,
   "id": "6640d988",
   "metadata": {},
   "outputs": [
    {
     "name": "stdout",
     "output_type": "stream",
     "text": [
      "Data already prepared. Loading from disk...\n",
      "\n",
      "Data preparation complete!\n",
      "Train: 4837, Test: 1210\n"
     ]
    }
   ],
   "source": [
    "from utils.preprocessor import prepare_data\n",
    "prepare_data()"
   ]
  }
 ],
 "metadata": {
  "kernelspec": {
   "display_name": ".venv",
   "language": "python",
   "name": "python3"
  },
  "language_info": {
   "codemirror_mode": {
    "name": "ipython",
    "version": 3
   },
   "file_extension": ".py",
   "mimetype": "text/x-python",
   "name": "python",
   "nbconvert_exporter": "python",
   "pygments_lexer": "ipython3",
   "version": "3.11.9"
  }
 },
 "nbformat": 4,
 "nbformat_minor": 5
}
